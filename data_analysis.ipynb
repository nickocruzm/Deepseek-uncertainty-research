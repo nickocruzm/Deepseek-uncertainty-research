{
 "cells": [
  {
   "cell_type": "code",
   "execution_count": null,
   "metadata": {},
   "outputs": [
    {
     "name": "stdout",
     "output_type": "stream",
     "text": [
      "                                               Query  MutualInformation\n",
      "0                   What is the capital of the U.K.?             0.0000\n",
      "1          Who is the author of The Grapes of Wrath?             0.0000\n",
      "2                    Who was the first US president?             0.1927\n",
      "3          What is the largest country in the world?             0.0000\n",
      "4        What is the national instrument of Ireland?             0.4596\n",
      "5     Which actor became M in the Bond film Skyfall?             0.0000\n",
      "6  Which can last longer without water: a camel o...             0.3681\n",
      "7  If Monday's child is fair of face, what is Sat...             0.3681\n"
     ]
    }
   ],
   "source": [
    "import pandas as pd\n",
    "\n",
    "# Single-Label Query: Without Injection-Rate Limits, No Distractions\n",
    "\n",
    "# Load the CSV file\n",
    "df = pd.read_csv('data/mi_estimate01.csv')\n",
    "\n",
    "# Extract Query and MutualInformation columns\n",
    "mi_values = df[['Query', 'MutualInformation']]\n",
    "\n",
    "# Print or work with the result\n",
    "print(mi_values)"
   ]
  },
  {
   "cell_type": "code",
   "execution_count": null,
   "metadata": {},
   "outputs": [
    {
     "name": "stdout",
     "output_type": "stream",
     "text": [
      "                                               Query  MutualInformation\n",
      "0                   What is the capital of the U.K.?             0.0000\n",
      "1          Who is the author of The Grapes of Wrath?             0.0000\n",
      "2                    Who was the first US president?             0.0000\n",
      "3          What is the largest country in the world?             0.0000\n",
      "4        What is the national instrument of Ireland?             0.0592\n",
      "5     Which actor became M in the Bond film Skyfall?             0.2974\n",
      "6  Which can last longer without water: a camel o...             0.2974\n",
      "7  If Monday's child is fair of face, what is Sat...             0.3681\n"
     ]
    }
   ],
   "source": [
    "# Single-Label Query: With Injection-Rate Limits, No Distractions\n",
    "\n",
    "# Load the CSV file\n",
    "df = pd.read_csv('data/mi_estimate_noDistraction.csv')\n",
    "\n",
    "# Extract Query and MutualInformation columns\n",
    "mi_values = df[['Query', 'MutualInformation']]\n",
    "\n",
    "# Print or work with the result\n",
    "print(mi_values)"
   ]
  },
  {
   "cell_type": "code",
   "execution_count": null,
   "metadata": {},
   "outputs": [
    {
     "name": "stdout",
     "output_type": "stream",
     "text": [
      "                                               Query  MutualInformation\n",
      "0                   What is the capital of the U.K.?             0.3681\n",
      "1          Who is the author of The Grapes of Wrath?             0.2502\n",
      "2                    Who was the first US president?             0.3681\n",
      "3          What is the largest country in the world?             0.3681\n",
      "4        What is the national instrument of Ireland?             0.3681\n",
      "5     Which actor became M in the Bond film Skyfall?             0.0000\n",
      "6  Which can last longer without water: a camel o...             0.0000\n",
      "7  If Monday's child is fair of face, what is Sat...             0.3681\n"
     ]
    }
   ],
   "source": [
    "# Load the CSV file\n",
    "\n",
    "# Single-Label Query: With Injection-Rate Limits, Distractions\n",
    "\n",
    "df = pd.read_csv('data/mi_estimate_distracted.csv')\n",
    "\n",
    "# Extract Query and MutualInformation columns\n",
    "mi_values = df[['Query', 'MutualInformation']]\n",
    "\n",
    "# Print or work with the result\n",
    "print(mi_values)"
   ]
  },
  {
   "cell_type": "code",
   "execution_count": 5,
   "metadata": {},
   "outputs": [
    {
     "name": "stdout",
     "output_type": "stream",
     "text": [
      "                                               Query  MutualInformation\n",
      "0                             Name a city in the UK.             0.1553\n",
      "1                               Name a yellow fruit.             0.1553\n",
      "2                           Name an alcoholic drink.             0.1553\n",
      "3  Name a ball game that is played by more than 5...             0.0541\n"
     ]
    }
   ],
   "source": [
    "# Load the CSV file\n",
    "\n",
    "# Multi-Label Queries , MI computation (unchanged)\n",
    "\n",
    "df = pd.read_csv('data/mi_estimate04.csv')\n",
    "\n",
    "# Extract Query and MutualInformation columns\n",
    "mi_values = df[['Query', 'MutualInformation']]\n",
    "\n",
    "# Print or work with the result\n",
    "print(mi_values)"
   ]
  }
 ],
 "metadata": {
  "kernelspec": {
   "display_name": ".deep-venv",
   "language": "python",
   "name": "python3"
  },
  "language_info": {
   "codemirror_mode": {
    "name": "ipython",
    "version": 3
   },
   "file_extension": ".py",
   "mimetype": "text/x-python",
   "name": "python",
   "nbconvert_exporter": "python",
   "pygments_lexer": "ipython3",
   "version": "3.10.11"
  }
 },
 "nbformat": 4,
 "nbformat_minor": 2
}
